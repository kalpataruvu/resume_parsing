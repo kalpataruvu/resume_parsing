{
 "cells": [
  {
   "cell_type": "code",
   "execution_count": 101,
   "metadata": {
    "collapsed": false
   },
   "outputs": [],
   "source": [
    "import tika\n",
    "from tika import parser\n",
    "import re\n",
    "class ResumeParsing:\n",
    "    def parseAnyFile():\n",
    "        tika.initVM()\n",
    "        parsed = parser.from_file(\"MyResume.docx\")\n",
    "        print(parsed[\"content\"])\n",
    "        regular_expression = re.compile(r\"[A-Z0-9._%+-]+@[A-Z0-9.-]+\\.[A-Z]{2,4}\", re.IGNORECASE)\n",
    "        reg_exp=re.compile(r\"\\(?\\d+\\)?[-.\\s]?\\d+[-.\\s]?\\d+\")\n",
    "        reg_add=re.compile(r\"[A-Z 0-9:]+,[ _A-Z0-9- ]+,[_A-Z0-9-]+,[_A-Z0-9-,]+-[0-9]\",re.IGNORECASE)\n",
    "        result1 = re.search(regular_expression,parsed[\"content\"])\n",
    "        result2 = re.search(reg_exp,parsed[\"content\"])\n",
    "        result3 = re.search(reg_add,parsed[\"content\"])\n",
    "        print(result1)\n",
    "        print(result2)\n",
    "        print(result3)\n",
    "       # if __name__==\"__main__\":\n",
    "        #    parseAnyFile()"
   ]
  },
  {
   "cell_type": "code",
   "execution_count": null,
   "metadata": {
    "collapsed": true
   },
   "outputs": [],
   "source": []
  },
  {
   "cell_type": "code",
   "execution_count": null,
   "metadata": {
    "collapsed": true
   },
   "outputs": [],
   "source": []
  },
  {
   "cell_type": "code",
   "execution_count": null,
   "metadata": {
    "collapsed": true
   },
   "outputs": [],
   "source": []
  },
  {
   "cell_type": "code",
   "execution_count": 102,
   "metadata": {
    "collapsed": false
   },
   "outputs": [
    {
     "name": "stdout",
     "output_type": "stream",
     "text": [
      "\n",
      "\n",
      "\n",
      "\n",
      "\n",
      "\n",
      "\n",
      "\n",
      "\n",
      "\n",
      "\n",
      "\n",
      "\n",
      "\n",
      "\n",
      "\n",
      "\n",
      "\n",
      "\n",
      "\n",
      "\n",
      "\n",
      "\n",
      "\n",
      "\n",
      "\n",
      "\n",
      "\n",
      "\n",
      "\n",
      "\n",
      "\n",
      "\n",
      "\n",
      "\n",
      "\n",
      "\n",
      "\n",
      "\n",
      "\n",
      "\n",
      "\n",
      "\n",
      "\n",
      "\n",
      "\n",
      "\n",
      "\n",
      "\n",
      "\n",
      "\n",
      "\n",
      "\n",
      "\n",
      "\n",
      "Java NMS Profile\n",
      "\n",
      "                      \n",
      "\t Chiluvuri Pooja\n",
      "\n",
      "\tEmail: poojachiluvuri@gmail.com\n",
      "Mobile: +91-9502788324\n",
      "\n",
      "\n",
      "\n",
      "\n",
      "\n",
      "\n",
      "\n",
      " CAREER SUMMARY\n",
      " Technical Skills/Competencies\n",
      "\tWeb Technologies\n",
      "\tHTML\n",
      "\n",
      "\tLanguages\n",
      "\tC, C++, SQL, PL/SQL,ANDROID,.NET,IOT\n",
      "\n",
      "\tDatabase\n",
      "\tMysql\n",
      "\n",
      "\tProject Name\n",
      "\tPet Munch\n",
      "\n",
      "\tTeam size\n",
      "\t2\n",
      "\n",
      "\n",
      "\n",
      "EDUCATION AND CERTIFICATION\t\n",
      "· B.Tech (Computer Science & Engineering) from VNR VJIET College (Autonomus) with 9.3 CGPA.\n",
      "· Diploma in Andhra polytechnic with 9.34%.\n",
      "· Schooling from HFEM School (St.Joseph Congregation) with 9.7GPA.\n",
      "\n",
      "ACHIEVEMENTS\n",
      "EXTRA CURRICULAR ACTIVITIES:\t    \n",
      "· Worked as Class Representative and Vice Captain at school level.\n",
      "· Awarded as The Best Outgoing Student at school level.\n",
      "· Awarded Chess championship at district level. \n",
      "· Interests: Paremiography, Reading Fiction.\n",
      "\n",
      " PERSONAL PROFILE\n",
      "\tDate of Birth\n",
      "\t23-10-1996\n",
      "\n",
      "\tLanguages Known\n",
      "\tEnglish,telugu,hindi\n",
      "\n",
      "\tPresent Address\n",
      "\tFlat no:502, Gangotri Srinivas Residency,Nizampet,Hyderabad,Telangana,Pincode-500090\n",
      "\n",
      "\n",
      "\n",
      "\n",
      "<_sre.SRE_Match object; span=(123, 147), match='poojachiluvuri@gmail.com'>\n",
      "<_sre.SRE_Match object; span=(157, 170), match='91-9502788324'>\n",
      "<_sre.SRE_Match object; span=(963, 1042), match='Flat no:502, Gangotri Srinivas Residency,Nizampet>\n"
     ]
    }
   ],
   "source": [
    "ResumeParsing.parseAnyFile()\n"
   ]
  },
  {
   "cell_type": "code",
   "execution_count": null,
   "metadata": {
    "collapsed": true
   },
   "outputs": [],
   "source": []
  },
  {
   "cell_type": "code",
   "execution_count": null,
   "metadata": {
    "collapsed": true
   },
   "outputs": [],
   "source": []
  },
  {
   "cell_type": "code",
   "execution_count": null,
   "metadata": {
    "collapsed": true
   },
   "outputs": [],
   "source": []
  },
  {
   "cell_type": "code",
   "execution_count": null,
   "metadata": {
    "collapsed": true
   },
   "outputs": [],
   "source": []
  },
  {
   "cell_type": "code",
   "execution_count": null,
   "metadata": {
    "collapsed": true
   },
   "outputs": [],
   "source": []
  },
  {
   "cell_type": "code",
   "execution_count": null,
   "metadata": {
    "collapsed": true
   },
   "outputs": [],
   "source": []
  },
  {
   "cell_type": "code",
   "execution_count": null,
   "metadata": {
    "collapsed": true
   },
   "outputs": [],
   "source": []
  },
  {
   "cell_type": "code",
   "execution_count": null,
   "metadata": {
    "collapsed": true
   },
   "outputs": [],
   "source": []
  },
  {
   "cell_type": "code",
   "execution_count": 93,
   "metadata": {
    "collapsed": false
   },
   "outputs": [
    {
     "name": "stdout",
     "output_type": "stream",
     "text": [
      "\n",
      "\n",
      "\n",
      "\n",
      "\n",
      "\n",
      "\n",
      "\n",
      "\n",
      "\n",
      "\n",
      "\n",
      "\n",
      "\n",
      "\n",
      "\n",
      "\n",
      "\n",
      "\n",
      "\n",
      "\n",
      "\n",
      "\n",
      "\n",
      "\n",
      "\n",
      "\n",
      "\n",
      "\n",
      "\n",
      "\n",
      "\n",
      "\n",
      "\n",
      "\n",
      "\n",
      "\n",
      "\n",
      "\n",
      "\n",
      "\n",
      "\n",
      "\n",
      "\n",
      "\n",
      "\n",
      "\n",
      "\n",
      "\n",
      "\n",
      "\n",
      "\n",
      "\n",
      "\n",
      "\n",
      "Java NMS Profile\n",
      "\n",
      "                      \n",
      "\t Chiluvuri Pooja\n",
      "\n",
      "\tEmail: poojachiluvuri@gmail.com\n",
      "Mobile: +91-9502788324\n",
      "\n",
      "\n",
      "\n",
      "\n",
      "\n",
      "\n",
      "\n",
      " CAREER SUMMARY\n",
      " Technical Skills/Competencies\n",
      "\tWeb Technologies\n",
      "\tHTML\n",
      "\n",
      "\tLanguages\n",
      "\tC, C++, SQL, PL/SQL,ANDROID,.NET,IOT\n",
      "\n",
      "\tDatabase\n",
      "\tMysql\n",
      "\n",
      "\tProject Name\n",
      "\tPet Munch\n",
      "\n",
      "\tTeam size\n",
      "\t2\n",
      "\n",
      "\n",
      "\n",
      "EDUCATION AND CERTIFICATION\t\n",
      "· B.Tech (Computer Science & Engineering) from VNR VJIET College (Autonomus) with 9.3 CGPA.\n",
      "· Diploma in Andhra polytechnic with 9.34%.\n",
      "· Schooling from HFEM School (St.Joseph Congregation) with 9.7GPA.\n",
      "\n",
      "ACHIEVEMENTS\n",
      "EXTRA CURRICULAR ACTIVITIES:\t    \n",
      "· Worked as Class Representative and Vice Captain at school level.\n",
      "· Awarded as The Best Outgoing Student at school level.\n",
      "· Awarded Chess championship at district level. \n",
      "· Interests: Paremiography, Reading Fiction.\n",
      "\n",
      " PERSONAL PROFILE\n",
      "\tDate of Birth\n",
      "\t23-10-1996\n",
      "\n",
      "\tLanguages Known\n",
      "\tEnglish,telugu,hindi\n",
      "\n",
      "\tPresent Address\n",
      "\tFlat no:502, Gangotri Srinivas Residency,Nizampet,Hyderabad,Telangana,Pincode-500090\n",
      "\n",
      "\n",
      "\n",
      "\n",
      "<_sre.SRE_Match object; span=(123, 147), match='poojachiluvuri@gmail.com'>\n",
      "<_sre.SRE_Match object; span=(157, 170), match='91-9502788324'>\n",
      "<_sre.SRE_Match object; span=(1013, 1042), match='Hyderabad,Telangana,Pincode-5'>\n"
     ]
    }
   ],
   "source": [
    "ResumeParsing.parseAnyFile()"
   ]
  },
  {
   "cell_type": "code",
   "execution_count": null,
   "metadata": {
    "collapsed": true
   },
   "outputs": [],
   "source": []
  },
  {
   "cell_type": "code",
   "execution_count": null,
   "metadata": {
    "collapsed": true
   },
   "outputs": [],
   "source": []
  },
  {
   "cell_type": "code",
   "execution_count": null,
   "metadata": {
    "collapsed": true
   },
   "outputs": [],
   "source": []
  },
  {
   "cell_type": "code",
   "execution_count": null,
   "metadata": {
    "collapsed": true
   },
   "outputs": [],
   "source": []
  },
  {
   "cell_type": "code",
   "execution_count": null,
   "metadata": {
    "collapsed": true
   },
   "outputs": [],
   "source": []
  },
  {
   "cell_type": "code",
   "execution_count": null,
   "metadata": {
    "collapsed": true
   },
   "outputs": [],
   "source": []
  },
  {
   "cell_type": "code",
   "execution_count": null,
   "metadata": {
    "collapsed": true
   },
   "outputs": [],
   "source": []
  },
  {
   "cell_type": "code",
   "execution_count": null,
   "metadata": {
    "collapsed": true
   },
   "outputs": [],
   "source": []
  },
  {
   "cell_type": "code",
   "execution_count": 85,
   "metadata": {
    "collapsed": false
   },
   "outputs": [
    {
     "name": "stdout",
     "output_type": "stream",
     "text": [
      "\n",
      "\n",
      "\n",
      "\n",
      "\n",
      "\n",
      "\n",
      "\n",
      "\n",
      "\n",
      "\n",
      "\n",
      "\n",
      "\n",
      "\n",
      "\n",
      "\n",
      "\n",
      "\n",
      "\n",
      "\n",
      "\n",
      "\n",
      "\n",
      "\n",
      "\n",
      "\n",
      "\n",
      "\n",
      "\n",
      "\n",
      "\n",
      "\n",
      "\n",
      "\n",
      "\n",
      "\n",
      "\n",
      "\n",
      "\n",
      "\n",
      "\n",
      "\n",
      "\n",
      "\n",
      "\n",
      "\n",
      "\n",
      "\n",
      "\n",
      "\n",
      "\n",
      "\n",
      "\n",
      "\n",
      "Java NMS Profile\n",
      "\n",
      "                      \n",
      "\t Chiluvuri Pooja\n",
      "\n",
      "\tEmail: poojachiluvuri@gmail.com\n",
      "Mobile: +91-9502788324\n",
      "\n",
      "\n",
      "\n",
      "\n",
      "\n",
      "\n",
      "\n",
      " CAREER SUMMARY\n",
      " Technical Skills/Competencies\n",
      "\tWeb Technologies\n",
      "\tHTML\n",
      "\n",
      "\tLanguages\n",
      "\tC, C++, SQL, PL/SQL,ANDROID,.NET,IOT\n",
      "\n",
      "\tDatabase\n",
      "\tMysql\n",
      "\n",
      "\tProject Name\n",
      "\tPet Munch\n",
      "\n",
      "\tTeam size\n",
      "\t2\n",
      "\n",
      "\n",
      "\n",
      "EDUCATION AND CERTIFICATION\t\n",
      "· B.Tech (Computer Science & Engineering) from VNR VJIET College (Autonomus) with 9.3 CGPA.\n",
      "· Diploma in Andhra polytechnic with 9.34%.\n",
      "· Schooling from HFEM School (St.Joseph Congregation) with 9.7GPA.\n",
      "\n",
      "ACHIEVEMENTS\n",
      "EXTRA CURRICULAR ACTIVITIES:\t    \n",
      "· Worked as Class Representative and Vice Captain at school level.\n",
      "· Awarded as The Best Outgoing Student at school level.\n",
      "· Awarded Chess championship at district level. \n",
      "· Interests: Paremiography, Reading Fiction.\n",
      "\n",
      " PERSONAL PROFILE\n",
      "\tDate of Birth\n",
      "\t23-10-1996\n",
      "\n",
      "\tLanguages Known\n",
      "\tEnglish,telugu,hindi\n",
      "\n",
      "\tPresent Address\n",
      "\tFlat no:502, Gangotri Srinivas Residency,Nizampet,Hyderabad,Telangana,Pincode-500090\n",
      "\n",
      "\n",
      "\n",
      "\n",
      "<_sre.SRE_Match object; span=(123, 147), match='poojachiluvuri@gmail.com'>\n",
      "<_sre.SRE_Match object; span=(157, 170), match='91-9502788324'>\n",
      "<_sre.SRE_Match object; span=(963, 1042), match='Flat no:502, Gangotri Srinivas Residency,Nizampet>\n"
     ]
    },
    {
     "ename": "NameError",
     "evalue": "name 'parseAnyFile' is not defined",
     "output_type": "error",
     "traceback": [
      "\u001b[0;31m---------------------------------------------------------------------------\u001b[0m",
      "\u001b[0;31mNameError\u001b[0m                                 Traceback (most recent call last)",
      "\u001b[0;32m<ipython-input-85-853f61afd064>\u001b[0m in \u001b[0;36m<module>\u001b[0;34m()\u001b[0m\n\u001b[0;32m----> 1\u001b[0;31m \u001b[0mResumeParsing\u001b[0m\u001b[1;33m.\u001b[0m\u001b[0mparseAnyFile\u001b[0m\u001b[1;33m(\u001b[0m\u001b[1;33m)\u001b[0m\u001b[1;33m\u001b[0m\u001b[0m\n\u001b[0m",
      "\u001b[0;32m<ipython-input-84-292072702046>\u001b[0m in \u001b[0;36mparseAnyFile\u001b[0;34m()\u001b[0m\n\u001b[1;32m     17\u001b[0m         \u001b[0mprint\u001b[0m\u001b[1;33m(\u001b[0m\u001b[0mresult3\u001b[0m\u001b[1;33m)\u001b[0m\u001b[1;33m\u001b[0m\u001b[0m\n\u001b[1;32m     18\u001b[0m         \u001b[1;32mif\u001b[0m \u001b[0m__name__\u001b[0m\u001b[1;33m==\u001b[0m\u001b[1;34m\"__main__\"\u001b[0m\u001b[1;33m:\u001b[0m\u001b[1;33m\u001b[0m\u001b[0m\n\u001b[0;32m---> 19\u001b[0;31m             \u001b[0mparseAnyFile\u001b[0m\u001b[1;33m(\u001b[0m\u001b[1;33m)\u001b[0m\u001b[1;33m\u001b[0m\u001b[0m\n\u001b[0m",
      "\u001b[0;31mNameError\u001b[0m: name 'parseAnyFile' is not defined"
     ]
    }
   ],
   "source": [
    "ResumeParsing.parseAnyFile()"
   ]
  },
  {
   "cell_type": "code",
   "execution_count": null,
   "metadata": {
    "collapsed": true
   },
   "outputs": [],
   "source": []
  },
  {
   "cell_type": "code",
   "execution_count": null,
   "metadata": {
    "collapsed": true
   },
   "outputs": [],
   "source": []
  },
  {
   "cell_type": "code",
   "execution_count": null,
   "metadata": {
    "collapsed": true
   },
   "outputs": [],
   "source": []
  },
  {
   "cell_type": "code",
   "execution_count": null,
   "metadata": {
    "collapsed": true
   },
   "outputs": [],
   "source": []
  },
  {
   "cell_type": "code",
   "execution_count": null,
   "metadata": {
    "collapsed": true
   },
   "outputs": [],
   "source": []
  },
  {
   "cell_type": "code",
   "execution_count": null,
   "metadata": {
    "collapsed": true
   },
   "outputs": [],
   "source": []
  },
  {
   "cell_type": "code",
   "execution_count": 76,
   "metadata": {
    "collapsed": false
   },
   "outputs": [
    {
     "name": "stdout",
     "output_type": "stream",
     "text": [
      "\n",
      "\n",
      "\n",
      "\n",
      "\n",
      "\n",
      "\n",
      "\n",
      "\n",
      "\n",
      "\n",
      "\n",
      "\n",
      "\n",
      "\n",
      "\n",
      "\n",
      "\n",
      "\n",
      "\n",
      "\n",
      "\n",
      "\n",
      "\n",
      "\n",
      "\n",
      "\n",
      "\n",
      "\n",
      "\n",
      "\n",
      "\n",
      "\n",
      "\n",
      "\n",
      "\n",
      "\n",
      "\n",
      "\n",
      "\n",
      "\n",
      "\n",
      "\n",
      "\n",
      "\n",
      "\n",
      "\n",
      "\n",
      "\n",
      "\n",
      "\n",
      "\n",
      "\n",
      "\n",
      "\n",
      "Java NMS Profile\n",
      "\n",
      "                      \n",
      "\t Chiluvuri Pooja\n",
      "\n",
      "\tEmail: poojachiluvuri@gmail.com\n",
      "Mobile: +91-9502788324\n",
      "\n",
      "\n",
      "\n",
      "\n",
      "\n",
      "\n",
      "\n",
      " CAREER SUMMARY\n",
      " Technical Skills/Competencies\n",
      "\tWeb Technologies\n",
      "\tHTML\n",
      "\n",
      "\tLanguages\n",
      "\tC, C++, SQL, PL/SQL,ANDROID,.NET,IOT\n",
      "\n",
      "\tDatabase\n",
      "\tMysql\n",
      "\n",
      "\tProject Name\n",
      "\tPet Munch\n",
      "\n",
      "\tTeam size\n",
      "\t2\n",
      "\n",
      "\n",
      "\n",
      "EDUCATION AND CERTIFICATION\t\n",
      "· B.Tech (Computer Science & Engineering) from VNR VJIET College (Autonomus) with 9.3 CGPA.\n",
      "· Diploma in Andhra polytechnic with 9.34%.\n",
      "· Schooling from HFEM School (St.Joseph Congregation) with 9.7GPA.\n",
      "\n",
      "ACHIEVEMENTS\n",
      "EXTRA CURRICULAR ACTIVITIES:\t    \n",
      "· Worked as Class Representative and Vice Captain at school level.\n",
      "· Awarded as The Best Outgoing Student at school level.\n",
      "· Awarded Chess championship at district level. \n",
      "· Interests: Paremiography, Reading Fiction.\n",
      "\n",
      " PERSONAL PROFILE\n",
      "\tDate of Birth\n",
      "\t23-10-1996\n",
      "\n",
      "\tLanguages Known\n",
      "\tEnglish,telugu,hindi\n",
      "\n",
      "\tPresent Address\n",
      "\tFlat no:502, Gangotri Srinivas Residency,Nizampet,Hyderabad,Telangana,Pincode-500090\n",
      "\n",
      "\n",
      "\n",
      "\n",
      "<_sre.SRE_Match object; span=(123, 147), match='poojachiluvuri@gmail.com'>\n",
      "<_sre.SRE_Match object; span=(157, 170), match='91-9502788324'>\n",
      "<_sre.SRE_Match object; span=(971, 1042), match='502, Gangotri Srinivas Residency,Nizampet,Hyderab>\n"
     ]
    },
    {
     "ename": "NameError",
     "evalue": "name 'parseAnyFile' is not defined",
     "output_type": "error",
     "traceback": [
      "\u001b[0;31m---------------------------------------------------------------------------\u001b[0m",
      "\u001b[0;31mNameError\u001b[0m                                 Traceback (most recent call last)",
      "\u001b[0;32m<ipython-input-76-853f61afd064>\u001b[0m in \u001b[0;36m<module>\u001b[0;34m()\u001b[0m\n\u001b[0;32m----> 1\u001b[0;31m \u001b[0mResumeParsing\u001b[0m\u001b[1;33m.\u001b[0m\u001b[0mparseAnyFile\u001b[0m\u001b[1;33m(\u001b[0m\u001b[1;33m)\u001b[0m\u001b[1;33m\u001b[0m\u001b[0m\n\u001b[0m",
      "\u001b[0;32m<ipython-input-75-1ca0e9a1b0ad>\u001b[0m in \u001b[0;36mparseAnyFile\u001b[0;34m()\u001b[0m\n\u001b[1;32m     17\u001b[0m         \u001b[0mprint\u001b[0m\u001b[1;33m(\u001b[0m\u001b[0mresult3\u001b[0m\u001b[1;33m)\u001b[0m\u001b[1;33m\u001b[0m\u001b[0m\n\u001b[1;32m     18\u001b[0m         \u001b[1;32mif\u001b[0m \u001b[0m__name__\u001b[0m\u001b[1;33m==\u001b[0m\u001b[1;34m\"__main__\"\u001b[0m\u001b[1;33m:\u001b[0m\u001b[1;33m\u001b[0m\u001b[0m\n\u001b[0;32m---> 19\u001b[0;31m             \u001b[0mparseAnyFile\u001b[0m\u001b[1;33m(\u001b[0m\u001b[1;33m)\u001b[0m\u001b[1;33m\u001b[0m\u001b[0m\n\u001b[0m",
      "\u001b[0;31mNameError\u001b[0m: name 'parseAnyFile' is not defined"
     ]
    }
   ],
   "source": [
    "ResumeParsing.parseAnyFile()"
   ]
  },
  {
   "cell_type": "code",
   "execution_count": null,
   "metadata": {
    "collapsed": true
   },
   "outputs": [],
   "source": []
  },
  {
   "cell_type": "code",
   "execution_count": null,
   "metadata": {
    "collapsed": true
   },
   "outputs": [],
   "source": []
  },
  {
   "cell_type": "code",
   "execution_count": null,
   "metadata": {
    "collapsed": true
   },
   "outputs": [],
   "source": []
  },
  {
   "cell_type": "code",
   "execution_count": null,
   "metadata": {
    "collapsed": true
   },
   "outputs": [],
   "source": []
  },
  {
   "cell_type": "code",
   "execution_count": null,
   "metadata": {
    "collapsed": true
   },
   "outputs": [],
   "source": []
  },
  {
   "cell_type": "code",
   "execution_count": null,
   "metadata": {
    "collapsed": true
   },
   "outputs": [],
   "source": []
  },
  {
   "cell_type": "code",
   "execution_count": null,
   "metadata": {
    "collapsed": true
   },
   "outputs": [],
   "source": []
  },
  {
   "cell_type": "code",
   "execution_count": 70,
   "metadata": {
    "collapsed": false
   },
   "outputs": [
    {
     "name": "stdout",
     "output_type": "stream",
     "text": [
      "\n",
      "\n",
      "\n",
      "\n",
      "\n",
      "\n",
      "\n",
      "\n",
      "\n",
      "\n",
      "\n",
      "\n",
      "\n",
      "\n",
      "\n",
      "\n",
      "\n",
      "\n",
      "\n",
      "\n",
      "\n",
      "\n",
      "\n",
      "\n",
      "\n",
      "\n",
      "\n",
      "\n",
      "\n",
      "\n",
      "\n",
      "\n",
      "\n",
      "\n",
      "\n",
      "\n",
      "\n",
      "\n",
      "\n",
      "\n",
      "\n",
      "\n",
      "\n",
      "\n",
      "\n",
      "\n",
      "\n",
      "\n",
      "\n",
      "\n",
      "\n",
      "\n",
      "\n",
      "\n",
      "\n",
      "Java NMS Profile\n",
      "\n",
      "                      \n",
      "\t Chiluvuri Pooja\n",
      "\n",
      "\tEmail: poojachiluvuri@gmail.com\n",
      "Mobile: +91-9502788324\n",
      "\n",
      "\n",
      "\n",
      "\n",
      "\n",
      "\n",
      "\n",
      " CAREER SUMMARY\n",
      " Technical Skills/Competencies\n",
      "\tWeb Technologies\n",
      "\tHTML\n",
      "\n",
      "\tLanguages\n",
      "\tC, C++, SQL, PL/SQL,ANDROID,.NET,IOT\n",
      "\n",
      "\tDatabase\n",
      "\tMysql\n",
      "\n",
      "\tProject Name\n",
      "\tPet Munch\n",
      "\n",
      "\tTeam size\n",
      "\t2\n",
      "\n",
      "\n",
      "\n",
      "EDUCATION AND CERTIFICATION\t\n",
      "· B.Tech (Computer Science & Engineering) from VNR VJIET College (Autonomus) with 9.3 CGPA.\n",
      "· Diploma in Andhra polytechnic with 9.34%.\n",
      "· Schooling from HFEM School (St.Joseph Congregation) with 9.7GPA.\n",
      "\n",
      "ACHIEVEMENTS\n",
      "EXTRA CURRICULAR ACTIVITIES:\t    \n",
      "· Worked as Class Representative and Vice Captain at school level.\n",
      "· Awarded as The Best Outgoing Student at school level.\n",
      "· Awarded Chess championship at district level. \n",
      "· Interests: Paremiography, Reading Fiction.\n",
      "\n",
      " PERSONAL PROFILE\n",
      "\tDate of Birth\n",
      "\t23-10-1996\n",
      "\n",
      "\tLanguages Known\n",
      "\tEnglish,telugu,hindi\n",
      "\n",
      "\tPresent Address\n",
      "\tFlat no:502, Gangotri Srinivas Residency,Nizampet,Hyderabad,Telangana,Pincode-500090\n",
      "\n",
      "\n",
      "\n",
      "\n"
     ]
    },
    {
     "ename": "error",
     "evalue": "bad character range +-  at position 11",
     "output_type": "error",
     "traceback": [
      "\u001b[0;31m---------------------------------------------------------------------------\u001b[0m",
      "\u001b[0;31merror\u001b[0m                                     Traceback (most recent call last)",
      "\u001b[0;32m<ipython-input-70-853f61afd064>\u001b[0m in \u001b[0;36m<module>\u001b[0;34m()\u001b[0m\n\u001b[0;32m----> 1\u001b[0;31m \u001b[0mResumeParsing\u001b[0m\u001b[1;33m.\u001b[0m\u001b[0mparseAnyFile\u001b[0m\u001b[1;33m(\u001b[0m\u001b[1;33m)\u001b[0m\u001b[1;33m\u001b[0m\u001b[0m\n\u001b[0m",
      "\u001b[0;32m<ipython-input-69-4cddbeafa870>\u001b[0m in \u001b[0;36mparseAnyFile\u001b[0;34m()\u001b[0m\n\u001b[1;32m      9\u001b[0m         \u001b[0mregular_expression\u001b[0m \u001b[1;33m=\u001b[0m \u001b[0mre\u001b[0m\u001b[1;33m.\u001b[0m\u001b[0mcompile\u001b[0m\u001b[1;33m(\u001b[0m\u001b[1;34mr\"[A-Z0-9._%+-]+@[A-Z0-9.-]+\\.[A-Z]{2,4}\"\u001b[0m\u001b[1;33m,\u001b[0m \u001b[0mre\u001b[0m\u001b[1;33m.\u001b[0m\u001b[0mIGNORECASE\u001b[0m\u001b[1;33m)\u001b[0m\u001b[1;33m\u001b[0m\u001b[0m\n\u001b[1;32m     10\u001b[0m         \u001b[0mreg_exp\u001b[0m\u001b[1;33m=\u001b[0m\u001b[0mre\u001b[0m\u001b[1;33m.\u001b[0m\u001b[0mcompile\u001b[0m\u001b[1;33m(\u001b[0m\u001b[1;34mr\"\\(?\\d+\\)?[-.\\s]?\\d+[-.\\s]?\\d+\"\u001b[0m\u001b[1;33m)\u001b[0m\u001b[1;33m\u001b[0m\u001b[0m\n\u001b[0;32m---> 11\u001b[0;31m         \u001b[0mreg_add\u001b[0m\u001b[1;33m=\u001b[0m\u001b[0mre\u001b[0m\u001b[1;33m.\u001b[0m\u001b[0mcompile\u001b[0m\u001b[1;33m(\u001b[0m\u001b[1;34mr\"[ A-Z0-9._%+- ]+,[ _A-Z0-9- ]+,[A-Z0-9-]+,[A-Z0-9]+,[A-Z0-9-,]+-[0-9_ ]\"\u001b[0m\u001b[1;33m,\u001b[0m\u001b[0mre\u001b[0m\u001b[1;33m.\u001b[0m\u001b[0mIGNORECASE\u001b[0m\u001b[1;33m)\u001b[0m\u001b[1;33m\u001b[0m\u001b[0m\n\u001b[0m\u001b[1;32m     12\u001b[0m         \u001b[0mresult1\u001b[0m \u001b[1;33m=\u001b[0m \u001b[0mre\u001b[0m\u001b[1;33m.\u001b[0m\u001b[0msearch\u001b[0m\u001b[1;33m(\u001b[0m\u001b[0mregular_expression\u001b[0m\u001b[1;33m,\u001b[0m\u001b[0mparsed\u001b[0m\u001b[1;33m[\u001b[0m\u001b[1;34m\"content\"\u001b[0m\u001b[1;33m]\u001b[0m\u001b[1;33m)\u001b[0m\u001b[1;33m\u001b[0m\u001b[0m\n\u001b[1;32m     13\u001b[0m         \u001b[0mresult2\u001b[0m \u001b[1;33m=\u001b[0m \u001b[0mre\u001b[0m\u001b[1;33m.\u001b[0m\u001b[0msearch\u001b[0m\u001b[1;33m(\u001b[0m\u001b[0mreg_exp\u001b[0m\u001b[1;33m,\u001b[0m\u001b[0mparsed\u001b[0m\u001b[1;33m[\u001b[0m\u001b[1;34m\"content\"\u001b[0m\u001b[1;33m]\u001b[0m\u001b[1;33m)\u001b[0m\u001b[1;33m\u001b[0m\u001b[0m\n",
      "\u001b[0;32mC:\\anaconda\\lib\\re.py\u001b[0m in \u001b[0;36mcompile\u001b[0;34m(pattern, flags)\u001b[0m\n\u001b[1;32m    231\u001b[0m \u001b[1;32mdef\u001b[0m \u001b[0mcompile\u001b[0m\u001b[1;33m(\u001b[0m\u001b[0mpattern\u001b[0m\u001b[1;33m,\u001b[0m \u001b[0mflags\u001b[0m\u001b[1;33m=\u001b[0m\u001b[1;36m0\u001b[0m\u001b[1;33m)\u001b[0m\u001b[1;33m:\u001b[0m\u001b[1;33m\u001b[0m\u001b[0m\n\u001b[1;32m    232\u001b[0m     \u001b[1;34m\"Compile a regular expression pattern, returning a pattern object.\"\u001b[0m\u001b[1;33m\u001b[0m\u001b[0m\n\u001b[0;32m--> 233\u001b[0;31m     \u001b[1;32mreturn\u001b[0m \u001b[0m_compile\u001b[0m\u001b[1;33m(\u001b[0m\u001b[0mpattern\u001b[0m\u001b[1;33m,\u001b[0m \u001b[0mflags\u001b[0m\u001b[1;33m)\u001b[0m\u001b[1;33m\u001b[0m\u001b[0m\n\u001b[0m\u001b[1;32m    234\u001b[0m \u001b[1;33m\u001b[0m\u001b[0m\n\u001b[1;32m    235\u001b[0m \u001b[1;32mdef\u001b[0m \u001b[0mpurge\u001b[0m\u001b[1;33m(\u001b[0m\u001b[1;33m)\u001b[0m\u001b[1;33m:\u001b[0m\u001b[1;33m\u001b[0m\u001b[0m\n",
      "\u001b[0;32mC:\\anaconda\\lib\\re.py\u001b[0m in \u001b[0;36m_compile\u001b[0;34m(pattern, flags)\u001b[0m\n\u001b[1;32m    299\u001b[0m     \u001b[1;32mif\u001b[0m \u001b[1;32mnot\u001b[0m \u001b[0msre_compile\u001b[0m\u001b[1;33m.\u001b[0m\u001b[0misstring\u001b[0m\u001b[1;33m(\u001b[0m\u001b[0mpattern\u001b[0m\u001b[1;33m)\u001b[0m\u001b[1;33m:\u001b[0m\u001b[1;33m\u001b[0m\u001b[0m\n\u001b[1;32m    300\u001b[0m         \u001b[1;32mraise\u001b[0m \u001b[0mTypeError\u001b[0m\u001b[1;33m(\u001b[0m\u001b[1;34m\"first argument must be string or compiled pattern\"\u001b[0m\u001b[1;33m)\u001b[0m\u001b[1;33m\u001b[0m\u001b[0m\n\u001b[0;32m--> 301\u001b[0;31m     \u001b[0mp\u001b[0m \u001b[1;33m=\u001b[0m \u001b[0msre_compile\u001b[0m\u001b[1;33m.\u001b[0m\u001b[0mcompile\u001b[0m\u001b[1;33m(\u001b[0m\u001b[0mpattern\u001b[0m\u001b[1;33m,\u001b[0m \u001b[0mflags\u001b[0m\u001b[1;33m)\u001b[0m\u001b[1;33m\u001b[0m\u001b[0m\n\u001b[0m\u001b[1;32m    302\u001b[0m     \u001b[1;32mif\u001b[0m \u001b[1;32mnot\u001b[0m \u001b[1;33m(\u001b[0m\u001b[0mflags\u001b[0m \u001b[1;33m&\u001b[0m \u001b[0mDEBUG\u001b[0m\u001b[1;33m)\u001b[0m\u001b[1;33m:\u001b[0m\u001b[1;33m\u001b[0m\u001b[0m\n\u001b[1;32m    303\u001b[0m         \u001b[1;32mif\u001b[0m \u001b[0mlen\u001b[0m\u001b[1;33m(\u001b[0m\u001b[0m_cache\u001b[0m\u001b[1;33m)\u001b[0m \u001b[1;33m>=\u001b[0m \u001b[0m_MAXCACHE\u001b[0m\u001b[1;33m:\u001b[0m\u001b[1;33m\u001b[0m\u001b[0m\n",
      "\u001b[0;32mC:\\anaconda\\lib\\sre_compile.py\u001b[0m in \u001b[0;36mcompile\u001b[0;34m(p, flags)\u001b[0m\n\u001b[1;32m    560\u001b[0m     \u001b[1;32mif\u001b[0m \u001b[0misstring\u001b[0m\u001b[1;33m(\u001b[0m\u001b[0mp\u001b[0m\u001b[1;33m)\u001b[0m\u001b[1;33m:\u001b[0m\u001b[1;33m\u001b[0m\u001b[0m\n\u001b[1;32m    561\u001b[0m         \u001b[0mpattern\u001b[0m \u001b[1;33m=\u001b[0m \u001b[0mp\u001b[0m\u001b[1;33m\u001b[0m\u001b[0m\n\u001b[0;32m--> 562\u001b[0;31m         \u001b[0mp\u001b[0m \u001b[1;33m=\u001b[0m \u001b[0msre_parse\u001b[0m\u001b[1;33m.\u001b[0m\u001b[0mparse\u001b[0m\u001b[1;33m(\u001b[0m\u001b[0mp\u001b[0m\u001b[1;33m,\u001b[0m \u001b[0mflags\u001b[0m\u001b[1;33m)\u001b[0m\u001b[1;33m\u001b[0m\u001b[0m\n\u001b[0m\u001b[1;32m    563\u001b[0m     \u001b[1;32melse\u001b[0m\u001b[1;33m:\u001b[0m\u001b[1;33m\u001b[0m\u001b[0m\n\u001b[1;32m    564\u001b[0m         \u001b[0mpattern\u001b[0m \u001b[1;33m=\u001b[0m \u001b[1;32mNone\u001b[0m\u001b[1;33m\u001b[0m\u001b[0m\n",
      "\u001b[0;32mC:\\anaconda\\lib\\sre_parse.py\u001b[0m in \u001b[0;36mparse\u001b[0;34m(str, flags, pattern)\u001b[0m\n\u001b[1;32m    854\u001b[0m \u001b[1;33m\u001b[0m\u001b[0m\n\u001b[1;32m    855\u001b[0m     \u001b[1;32mtry\u001b[0m\u001b[1;33m:\u001b[0m\u001b[1;33m\u001b[0m\u001b[0m\n\u001b[0;32m--> 856\u001b[0;31m         \u001b[0mp\u001b[0m \u001b[1;33m=\u001b[0m \u001b[0m_parse_sub\u001b[0m\u001b[1;33m(\u001b[0m\u001b[0msource\u001b[0m\u001b[1;33m,\u001b[0m \u001b[0mpattern\u001b[0m\u001b[1;33m,\u001b[0m \u001b[0mflags\u001b[0m \u001b[1;33m&\u001b[0m \u001b[0mSRE_FLAG_VERBOSE\u001b[0m\u001b[1;33m,\u001b[0m \u001b[1;32mFalse\u001b[0m\u001b[1;33m)\u001b[0m\u001b[1;33m\u001b[0m\u001b[0m\n\u001b[0m\u001b[1;32m    857\u001b[0m     \u001b[1;32mexcept\u001b[0m \u001b[0mVerbose\u001b[0m\u001b[1;33m:\u001b[0m\u001b[1;33m\u001b[0m\u001b[0m\n\u001b[1;32m    858\u001b[0m         \u001b[1;31m# the VERBOSE flag was switched on inside the pattern.  to be\u001b[0m\u001b[1;33m\u001b[0m\u001b[1;33m\u001b[0m\u001b[0m\n",
      "\u001b[0;32mC:\\anaconda\\lib\\sre_parse.py\u001b[0m in \u001b[0;36m_parse_sub\u001b[0;34m(source, state, verbose, nested)\u001b[0m\n\u001b[1;32m    413\u001b[0m     \u001b[0mstart\u001b[0m \u001b[1;33m=\u001b[0m \u001b[0msource\u001b[0m\u001b[1;33m.\u001b[0m\u001b[0mtell\u001b[0m\u001b[1;33m(\u001b[0m\u001b[1;33m)\u001b[0m\u001b[1;33m\u001b[0m\u001b[0m\n\u001b[1;32m    414\u001b[0m     \u001b[1;32mwhile\u001b[0m \u001b[1;32mTrue\u001b[0m\u001b[1;33m:\u001b[0m\u001b[1;33m\u001b[0m\u001b[0m\n\u001b[0;32m--> 415\u001b[0;31m         \u001b[0mitemsappend\u001b[0m\u001b[1;33m(\u001b[0m\u001b[0m_parse\u001b[0m\u001b[1;33m(\u001b[0m\u001b[0msource\u001b[0m\u001b[1;33m,\u001b[0m \u001b[0mstate\u001b[0m\u001b[1;33m,\u001b[0m \u001b[0mverbose\u001b[0m\u001b[1;33m)\u001b[0m\u001b[1;33m)\u001b[0m\u001b[1;33m\u001b[0m\u001b[0m\n\u001b[0m\u001b[1;32m    416\u001b[0m         \u001b[1;32mif\u001b[0m \u001b[1;32mnot\u001b[0m \u001b[0msourcematch\u001b[0m\u001b[1;33m(\u001b[0m\u001b[1;34m\"|\"\u001b[0m\u001b[1;33m)\u001b[0m\u001b[1;33m:\u001b[0m\u001b[1;33m\u001b[0m\u001b[0m\n\u001b[1;32m    417\u001b[0m             \u001b[1;32mbreak\u001b[0m\u001b[1;33m\u001b[0m\u001b[0m\n",
      "\u001b[0;32mC:\\anaconda\\lib\\sre_parse.py\u001b[0m in \u001b[0;36m_parse\u001b[0;34m(source, state, verbose)\u001b[0m\n\u001b[1;32m    550\u001b[0m                     \u001b[1;32mif\u001b[0m \u001b[0mhi\u001b[0m \u001b[1;33m<\u001b[0m \u001b[0mlo\u001b[0m\u001b[1;33m:\u001b[0m\u001b[1;33m\u001b[0m\u001b[0m\n\u001b[1;32m    551\u001b[0m                         \u001b[0mmsg\u001b[0m \u001b[1;33m=\u001b[0m \u001b[1;34m\"bad character range %s-%s\"\u001b[0m \u001b[1;33m%\u001b[0m \u001b[1;33m(\u001b[0m\u001b[0mthis\u001b[0m\u001b[1;33m,\u001b[0m \u001b[0mthat\u001b[0m\u001b[1;33m)\u001b[0m\u001b[1;33m\u001b[0m\u001b[0m\n\u001b[0;32m--> 552\u001b[0;31m                         \u001b[1;32mraise\u001b[0m \u001b[0msource\u001b[0m\u001b[1;33m.\u001b[0m\u001b[0merror\u001b[0m\u001b[1;33m(\u001b[0m\u001b[0mmsg\u001b[0m\u001b[1;33m,\u001b[0m \u001b[0mlen\u001b[0m\u001b[1;33m(\u001b[0m\u001b[0mthis\u001b[0m\u001b[1;33m)\u001b[0m \u001b[1;33m+\u001b[0m \u001b[1;36m1\u001b[0m \u001b[1;33m+\u001b[0m \u001b[0mlen\u001b[0m\u001b[1;33m(\u001b[0m\u001b[0mthat\u001b[0m\u001b[1;33m)\u001b[0m\u001b[1;33m)\u001b[0m\u001b[1;33m\u001b[0m\u001b[0m\n\u001b[0m\u001b[1;32m    553\u001b[0m                     \u001b[0msetappend\u001b[0m\u001b[1;33m(\u001b[0m\u001b[1;33m(\u001b[0m\u001b[0mRANGE\u001b[0m\u001b[1;33m,\u001b[0m \u001b[1;33m(\u001b[0m\u001b[0mlo\u001b[0m\u001b[1;33m,\u001b[0m \u001b[0mhi\u001b[0m\u001b[1;33m)\u001b[0m\u001b[1;33m)\u001b[0m\u001b[1;33m)\u001b[0m\u001b[1;33m\u001b[0m\u001b[0m\n\u001b[1;32m    554\u001b[0m                 \u001b[1;32melse\u001b[0m\u001b[1;33m:\u001b[0m\u001b[1;33m\u001b[0m\u001b[0m\n",
      "\u001b[0;31merror\u001b[0m: bad character range +-  at position 11"
     ]
    }
   ],
   "source": [
    "ResumeParsing.parseAnyFile()"
   ]
  },
  {
   "cell_type": "code",
   "execution_count": null,
   "metadata": {
    "collapsed": true
   },
   "outputs": [],
   "source": []
  },
  {
   "cell_type": "code",
   "execution_count": null,
   "metadata": {
    "collapsed": true
   },
   "outputs": [],
   "source": []
  },
  {
   "cell_type": "code",
   "execution_count": null,
   "metadata": {
    "collapsed": true
   },
   "outputs": [],
   "source": []
  },
  {
   "cell_type": "code",
   "execution_count": null,
   "metadata": {
    "collapsed": true
   },
   "outputs": [],
   "source": []
  },
  {
   "cell_type": "code",
   "execution_count": null,
   "metadata": {
    "collapsed": true
   },
   "outputs": [],
   "source": []
  },
  {
   "cell_type": "code",
   "execution_count": null,
   "metadata": {
    "collapsed": true
   },
   "outputs": [],
   "source": []
  },
  {
   "cell_type": "code",
   "execution_count": null,
   "metadata": {
    "collapsed": true
   },
   "outputs": [],
   "source": []
  },
  {
   "cell_type": "code",
   "execution_count": null,
   "metadata": {
    "collapsed": true
   },
   "outputs": [],
   "source": []
  },
  {
   "cell_type": "code",
   "execution_count": null,
   "metadata": {
    "collapsed": true
   },
   "outputs": [],
   "source": []
  },
  {
   "cell_type": "code",
   "execution_count": null,
   "metadata": {
    "collapsed": true
   },
   "outputs": [],
   "source": []
  },
  {
   "cell_type": "code",
   "execution_count": null,
   "metadata": {
    "collapsed": true
   },
   "outputs": [],
   "source": []
  },
  {
   "cell_type": "code",
   "execution_count": 59,
   "metadata": {
    "collapsed": false
   },
   "outputs": [
    {
     "name": "stdout",
     "output_type": "stream",
     "text": [
      "\n",
      "\n",
      "\n",
      "\n",
      "\n",
      "\n",
      "\n",
      "\n",
      "\n",
      "\n",
      "\n",
      "\n",
      "\n",
      "\n",
      "\n",
      "\n",
      "\n",
      "\n",
      "\n",
      "\n",
      "\n",
      "\n",
      "\n",
      "\n",
      "\n",
      "\n",
      "\n",
      "\n",
      "\n",
      "\n",
      "\n",
      "\n",
      "\n",
      "\n",
      "\n",
      "\n",
      "\n",
      "\n",
      "\n",
      "\n",
      "\n",
      "\n",
      "\n",
      "\n",
      "\n",
      "\n",
      "\n",
      "\n",
      "\n",
      "\n",
      "\n",
      "\n",
      "\n",
      "\n",
      "\n",
      "Java NMS Profile\n",
      "\n",
      "                      \n",
      "\t Chiluvuri Pooja\n",
      "\n",
      "\tEmail: poojachiluvuri@gmail.com\n",
      "Mobile: +91-9502788324\n",
      "\n",
      "\n",
      "\n",
      "\n",
      "\n",
      "\n",
      "\n",
      " CAREER SUMMARY\n",
      " Technical Skills/Competencies\n",
      "\tWeb Technologies\n",
      "\tHTML\n",
      "\n",
      "\tLanguages\n",
      "\tC, C++, SQL, PL/SQL,ANDROID,.NET,IOT\n",
      "\n",
      "\tDatabase\n",
      "\tMysql\n",
      "\n",
      "\tProject Name\n",
      "\tPet Munch\n",
      "\n",
      "\tTeam size\n",
      "\t2\n",
      "\n",
      "\n",
      "\n",
      "EDUCATION AND CERTIFICATION\t\n",
      "· B.Tech (Computer Science & Engineering) from VNR VJIET College (Autonomus) with 9.3 CGPA.\n",
      "· Diploma in Andhra polytechnic with 9.34%.\n",
      "· Schooling from HFEM School (St.Joseph Congregation) with 9.7GPA.\n",
      "\n",
      "ACHIEVEMENTS\n",
      "EXTRA CURRICULAR ACTIVITIES:\t    \n",
      "· Worked as Class Representative and Vice Captain at school level.\n",
      "· Awarded as The Best Outgoing Student at school level.\n",
      "· Awarded Chess championship at district level. \n",
      "· Interests: Paremiography, Reading Fiction.\n",
      "\n",
      " PERSONAL PROFILE\n",
      "\tDate of Birth\n",
      "\t23-10-1996\n",
      "\n",
      "\tLanguages Known\n",
      "\tEnglish,telugu,hindi\n",
      "\n",
      "\tPresent Address\n",
      "\tFlat no: 502, Gangotri Srinivas Residency,Nizampet,Hyderabad,Telangana,Pincode-500090\n",
      "\n",
      "\n",
      "\n",
      "\n",
      "<_sre.SRE_Match object; span=(123, 147), match='poojachiluvuri@gmail.com'>\n",
      "<_sre.SRE_Match object; span=(157, 170), match='91-9502788324'>\n",
      "None\n"
     ]
    },
    {
     "ename": "NameError",
     "evalue": "name 'parseAnyFile' is not defined",
     "output_type": "error",
     "traceback": [
      "\u001b[0;31m---------------------------------------------------------------------------\u001b[0m",
      "\u001b[0;31mNameError\u001b[0m                                 Traceback (most recent call last)",
      "\u001b[0;32m<ipython-input-59-853f61afd064>\u001b[0m in \u001b[0;36m<module>\u001b[0;34m()\u001b[0m\n\u001b[0;32m----> 1\u001b[0;31m \u001b[0mResumeParsing\u001b[0m\u001b[1;33m.\u001b[0m\u001b[0mparseAnyFile\u001b[0m\u001b[1;33m(\u001b[0m\u001b[1;33m)\u001b[0m\u001b[1;33m\u001b[0m\u001b[0m\n\u001b[0m",
      "\u001b[0;32m<ipython-input-58-9c148bd78291>\u001b[0m in \u001b[0;36mparseAnyFile\u001b[0;34m()\u001b[0m\n\u001b[1;32m     17\u001b[0m         \u001b[0mprint\u001b[0m\u001b[1;33m(\u001b[0m\u001b[0mresult3\u001b[0m\u001b[1;33m)\u001b[0m\u001b[1;33m\u001b[0m\u001b[0m\n\u001b[1;32m     18\u001b[0m         \u001b[1;32mif\u001b[0m \u001b[0m__name__\u001b[0m\u001b[1;33m==\u001b[0m\u001b[1;34m\"__main__\"\u001b[0m\u001b[1;33m:\u001b[0m\u001b[1;33m\u001b[0m\u001b[0m\n\u001b[0;32m---> 19\u001b[0;31m             \u001b[0mparseAnyFile\u001b[0m\u001b[1;33m(\u001b[0m\u001b[1;33m)\u001b[0m\u001b[1;33m\u001b[0m\u001b[0m\n\u001b[0m",
      "\u001b[0;31mNameError\u001b[0m: name 'parseAnyFile' is not defined"
     ]
    }
   ],
   "source": [
    "ResumeParsing.parseAnyFile()"
   ]
  },
  {
   "cell_type": "code",
   "execution_count": null,
   "metadata": {
    "collapsed": true
   },
   "outputs": [],
   "source": []
  },
  {
   "cell_type": "code",
   "execution_count": null,
   "metadata": {
    "collapsed": true
   },
   "outputs": [],
   "source": []
  },
  {
   "cell_type": "code",
   "execution_count": null,
   "metadata": {
    "collapsed": true
   },
   "outputs": [],
   "source": []
  },
  {
   "cell_type": "code",
   "execution_count": null,
   "metadata": {
    "collapsed": true
   },
   "outputs": [],
   "source": []
  },
  {
   "cell_type": "code",
   "execution_count": null,
   "metadata": {
    "collapsed": true
   },
   "outputs": [],
   "source": []
  },
  {
   "cell_type": "code",
   "execution_count": null,
   "metadata": {
    "collapsed": true
   },
   "outputs": [],
   "source": []
  },
  {
   "cell_type": "code",
   "execution_count": null,
   "metadata": {
    "collapsed": true
   },
   "outputs": [],
   "source": []
  },
  {
   "cell_type": "code",
   "execution_count": null,
   "metadata": {
    "collapsed": true
   },
   "outputs": [],
   "source": []
  },
  {
   "cell_type": "code",
   "execution_count": null,
   "metadata": {
    "collapsed": true
   },
   "outputs": [],
   "source": []
  },
  {
   "cell_type": "code",
   "execution_count": 45,
   "metadata": {
    "collapsed": false
   },
   "outputs": [
    {
     "name": "stdout",
     "output_type": "stream",
     "text": [
      "\n",
      "\n",
      "\n",
      "\n",
      "\n",
      "\n",
      "\n",
      "\n",
      "\n",
      "\n",
      "\n",
      "\n",
      "\n",
      "\n",
      "\n",
      "\n",
      "\n",
      "\n",
      "\n",
      "\n",
      "\n",
      "\n",
      "\n",
      "\n",
      "\n",
      "\n",
      "\n",
      "\n",
      "\n",
      "\n",
      "\n",
      "\n",
      "\n",
      "\n",
      "\n",
      "\n",
      "\n",
      "\n",
      "\n",
      "\n",
      "\n",
      "\n",
      "\n",
      "\n",
      "\n",
      "\n",
      "\n",
      "\n",
      "\n",
      "\n",
      "\n",
      "\n",
      "\n",
      "\n",
      "\n",
      "Java NMS Profile\n",
      "\n",
      "                      \n",
      "\t Chiluvuri Pooja\n",
      "\n",
      "\tEmail: poojachiluvuri@gmail.com\n",
      "Mobile: +91-9502788324\n",
      "\n",
      "\n",
      "\n",
      "\n",
      "\n",
      "\n",
      "\n",
      " CAREER SUMMARY\n",
      " Technical Skills/Competencies\n",
      "\tWeb Technologies\n",
      "\tHTML\n",
      "\n",
      "\tLanguages\n",
      "\tC, C++, SQL, PL/SQL,ANDROID,.NET,IOT\n",
      "\n",
      "\tDatabase\n",
      "\tMysql\n",
      "\n",
      "\tProject Name\n",
      "\tPet Munch\n",
      "\n",
      "\tTeam size\n",
      "\t2\n",
      "\n",
      "\n",
      "\n",
      "EDUCATION AND CERTIFICATION\t\n",
      "· B.Tech (Computer Science & Engineering) from VNR VJIET College (Autonomus) with 9.3 CGPA.\n",
      "· Diploma in Andhra polytechnic with 9.34%.\n",
      "· Schooling from HFEM School (St.Joseph Congregation) with 9.7GPA.\n",
      "\n",
      "ACHIEVEMENTS\n",
      "EXTRA CURRICULAR ACTIVITIES:\t    \n",
      "· Worked as Class Representative and Vice Captain at school level.\n",
      "· Awarded as The Best Outgoing Student at school level.\n",
      "· Awarded Chess championship at district level. \n",
      "· Interests: Paremiography, Reading Fiction.\n",
      "\n",
      " PERSONAL PROFILE\n",
      "\tDate of Birth\n",
      "\t23-10-1996\n",
      "\n",
      "\tLanguages Known\n",
      "\tEnglish,telugu,hindi\n",
      "\n",
      "\tPresent Address\n",
      "\tFlat no: 502, Gangotri Srinivas Residency,Nizampet,Hyderabad,Telangana,Pincode-500090\n",
      "\n",
      "\n",
      "\n",
      "\n",
      "<_sre.SRE_Match object; span=(123, 147), match='poojachiluvuri@gmail.com'>\n",
      "<_sre.SRE_Match object; span=(157, 170), match='91-9502788324'>\n",
      "<_sre.SRE_Match object; span=(1024, 1043), match='Telangana,Pincode-5'>\n"
     ]
    },
    {
     "ename": "NameError",
     "evalue": "name 'parseAnyFile' is not defined",
     "output_type": "error",
     "traceback": [
      "\u001b[0;31m---------------------------------------------------------------------------\u001b[0m",
      "\u001b[0;31mNameError\u001b[0m                                 Traceback (most recent call last)",
      "\u001b[0;32m<ipython-input-45-853f61afd064>\u001b[0m in \u001b[0;36m<module>\u001b[0;34m()\u001b[0m\n\u001b[0;32m----> 1\u001b[0;31m \u001b[0mResumeParsing\u001b[0m\u001b[1;33m.\u001b[0m\u001b[0mparseAnyFile\u001b[0m\u001b[1;33m(\u001b[0m\u001b[1;33m)\u001b[0m\u001b[1;33m\u001b[0m\u001b[0m\n\u001b[0m",
      "\u001b[0;32m<ipython-input-44-346de819404c>\u001b[0m in \u001b[0;36mparseAnyFile\u001b[0;34m()\u001b[0m\n\u001b[1;32m     17\u001b[0m         \u001b[0mprint\u001b[0m\u001b[1;33m(\u001b[0m\u001b[0mresult3\u001b[0m\u001b[1;33m)\u001b[0m\u001b[1;33m\u001b[0m\u001b[0m\n\u001b[1;32m     18\u001b[0m         \u001b[1;32mif\u001b[0m \u001b[0m__name__\u001b[0m\u001b[1;33m==\u001b[0m\u001b[1;34m\"__main__\"\u001b[0m\u001b[1;33m:\u001b[0m\u001b[1;33m\u001b[0m\u001b[0m\n\u001b[0;32m---> 19\u001b[0;31m             \u001b[0mparseAnyFile\u001b[0m\u001b[1;33m(\u001b[0m\u001b[1;33m)\u001b[0m\u001b[1;33m\u001b[0m\u001b[0m\n\u001b[0m",
      "\u001b[0;31mNameError\u001b[0m: name 'parseAnyFile' is not defined"
     ]
    }
   ],
   "source": [
    "ResumeParsing.parseAnyFile()"
   ]
  },
  {
   "cell_type": "code",
   "execution_count": null,
   "metadata": {
    "collapsed": true
   },
   "outputs": [],
   "source": []
  },
  {
   "cell_type": "code",
   "execution_count": null,
   "metadata": {
    "collapsed": true
   },
   "outputs": [],
   "source": []
  },
  {
   "cell_type": "code",
   "execution_count": null,
   "metadata": {
    "collapsed": true
   },
   "outputs": [],
   "source": []
  },
  {
   "cell_type": "code",
   "execution_count": null,
   "metadata": {
    "collapsed": true
   },
   "outputs": [],
   "source": []
  },
  {
   "cell_type": "code",
   "execution_count": null,
   "metadata": {
    "collapsed": true
   },
   "outputs": [],
   "source": []
  },
  {
   "cell_type": "code",
   "execution_count": null,
   "metadata": {
    "collapsed": true
   },
   "outputs": [],
   "source": []
  },
  {
   "cell_type": "code",
   "execution_count": null,
   "metadata": {
    "collapsed": true
   },
   "outputs": [],
   "source": []
  },
  {
   "cell_type": "code",
   "execution_count": 37,
   "metadata": {
    "collapsed": false
   },
   "outputs": [
    {
     "name": "stdout",
     "output_type": "stream",
     "text": [
      "\n",
      "\n",
      "\n",
      "\n",
      "\n",
      "\n",
      "\n",
      "\n",
      "\n",
      "\n",
      "\n",
      "\n",
      "\n",
      "\n",
      "\n",
      "\n",
      "\n",
      "\n",
      "\n",
      "\n",
      "\n",
      "\n",
      "\n",
      "\n",
      "\n",
      "\n",
      "\n",
      "\n",
      "\n",
      "\n",
      "\n",
      "\n",
      "\n",
      "\n",
      "\n",
      "\n",
      "\n",
      "\n",
      "\n",
      "\n",
      "\n",
      "\n",
      "\n",
      "\n",
      "\n",
      "\n",
      "\n",
      "\n",
      "\n",
      "\n",
      "\n",
      "\n",
      "\n",
      "\n",
      "\n",
      "Java NMS Profile\n",
      "\n",
      "                      \n",
      "\t Chiluvuri Pooja\n",
      "\n",
      "\tEmail: poojachiluvuri@gmail.com\n",
      "Mobile: +91-9502788324\n",
      "\n",
      "\n",
      "\n",
      "\n",
      "\n",
      "\n",
      "\n",
      " CAREER SUMMARY\n",
      " Technical Skills/Competencies\n",
      "\tWeb Technologies\n",
      "\tHTML\n",
      "\n",
      "\tLanguages\n",
      "\tC, C++, SQL, PL/SQL,ANDROID,.NET,IOT\n",
      "\n",
      "\tDatabase\n",
      "\tMysql\n",
      "\n",
      "\tProject Name\n",
      "\tPet Munch\n",
      "\n",
      "\tTeam size\n",
      "\t2\n",
      "\n",
      "\n",
      "\n",
      "EDUCATION AND CERTIFICATION\t\n",
      "· B.Tech (Computer Science & Engineering) from VNR VJIET College (Autonomus) with 9.3 CGPA.\n",
      "· Diploma in Andhra polytechnic with 9.34%.\n",
      "· Schooling from HFEM School (St.Joseph Congregation) with 9.7GPA.\n",
      "\n",
      "ACHIEVEMENTS\n",
      "EXTRA CURRICULAR ACTIVITIES:\t    \n",
      "· Worked as Class Representative and Vice Captain at school level.\n",
      "· Awarded as The Best Outgoing Student at school level.\n",
      "· Awarded Chess championship at district level. \n",
      "· Interests: Paremiography, Reading Fiction.\n",
      "\n",
      " PERSONAL PROFILE\n",
      "\tDate of Birth\n",
      "\t23-10-1996\n",
      "\n",
      "\tLanguages Known\n",
      "\tEnglish,telugu,hindi\n",
      "\n",
      "\tPresent Address\n",
      "\tFlat no: 502, Gangotri Srinivas Residency,Nizampet,Hyderabad,Telangana,Pincode-500090\n",
      "\n",
      "\n",
      "\n",
      "\n",
      "<_sre.SRE_Match object; span=(123, 147), match='poojachiluvuri@gmail.com'>\n",
      "<_sre.SRE_Match object; span=(157, 170), match='91-9502788324'>\n",
      "None\n"
     ]
    },
    {
     "ename": "NameError",
     "evalue": "name 'parseAnyFile' is not defined",
     "output_type": "error",
     "traceback": [
      "\u001b[0;31m---------------------------------------------------------------------------\u001b[0m",
      "\u001b[0;31mNameError\u001b[0m                                 Traceback (most recent call last)",
      "\u001b[0;32m<ipython-input-37-853f61afd064>\u001b[0m in \u001b[0;36m<module>\u001b[0;34m()\u001b[0m\n\u001b[0;32m----> 1\u001b[0;31m \u001b[0mResumeParsing\u001b[0m\u001b[1;33m.\u001b[0m\u001b[0mparseAnyFile\u001b[0m\u001b[1;33m(\u001b[0m\u001b[1;33m)\u001b[0m\u001b[1;33m\u001b[0m\u001b[0m\n\u001b[0m",
      "\u001b[0;32m<ipython-input-36-0e1d1322b6e0>\u001b[0m in \u001b[0;36mparseAnyFile\u001b[0;34m()\u001b[0m\n\u001b[1;32m     17\u001b[0m         \u001b[0mprint\u001b[0m\u001b[1;33m(\u001b[0m\u001b[0mresult3\u001b[0m\u001b[1;33m)\u001b[0m\u001b[1;33m\u001b[0m\u001b[0m\n\u001b[1;32m     18\u001b[0m         \u001b[1;32mif\u001b[0m \u001b[0m__name__\u001b[0m\u001b[1;33m==\u001b[0m\u001b[1;34m\"__main__\"\u001b[0m\u001b[1;33m:\u001b[0m\u001b[1;33m\u001b[0m\u001b[0m\n\u001b[0;32m---> 19\u001b[0;31m             \u001b[0mparseAnyFile\u001b[0m\u001b[1;33m(\u001b[0m\u001b[1;33m)\u001b[0m\u001b[1;33m\u001b[0m\u001b[0m\n\u001b[0m",
      "\u001b[0;31mNameError\u001b[0m: name 'parseAnyFile' is not defined"
     ]
    }
   ],
   "source": [
    "ResumeParsing.parseAnyFile()"
   ]
  },
  {
   "cell_type": "code",
   "execution_count": null,
   "metadata": {
    "collapsed": true
   },
   "outputs": [],
   "source": []
  },
  {
   "cell_type": "code",
   "execution_count": null,
   "metadata": {
    "collapsed": true
   },
   "outputs": [],
   "source": []
  },
  {
   "cell_type": "code",
   "execution_count": null,
   "metadata": {
    "collapsed": true
   },
   "outputs": [],
   "source": []
  },
  {
   "cell_type": "code",
   "execution_count": null,
   "metadata": {
    "collapsed": true
   },
   "outputs": [],
   "source": []
  },
  {
   "cell_type": "code",
   "execution_count": null,
   "metadata": {
    "collapsed": true
   },
   "outputs": [],
   "source": []
  },
  {
   "cell_type": "code",
   "execution_count": null,
   "metadata": {
    "collapsed": true
   },
   "outputs": [],
   "source": []
  },
  {
   "cell_type": "code",
   "execution_count": null,
   "metadata": {
    "collapsed": true
   },
   "outputs": [],
   "source": []
  },
  {
   "cell_type": "code",
   "execution_count": null,
   "metadata": {
    "collapsed": true
   },
   "outputs": [],
   "source": []
  },
  {
   "cell_type": "code",
   "execution_count": null,
   "metadata": {
    "collapsed": true
   },
   "outputs": [],
   "source": []
  },
  {
   "cell_type": "code",
   "execution_count": 29,
   "metadata": {
    "collapsed": false
   },
   "outputs": [
    {
     "name": "stdout",
     "output_type": "stream",
     "text": [
      "\n",
      "\n",
      "\n",
      "\n",
      "\n",
      "\n",
      "\n",
      "\n",
      "\n",
      "\n",
      "\n",
      "\n",
      "\n",
      "\n",
      "\n",
      "\n",
      "\n",
      "\n",
      "\n",
      "\n",
      "\n",
      "\n",
      "\n",
      "\n",
      "\n",
      "\n",
      "\n",
      "\n",
      "\n",
      "\n",
      "\n",
      "\n",
      "\n",
      "\n",
      "\n",
      "\n",
      "\n",
      "\n",
      "\n",
      "\n",
      "\n",
      "\n",
      "\n",
      "\n",
      "\n",
      "\n",
      "\n",
      "\n",
      "\n",
      "\n",
      "\n",
      "\n",
      "\n",
      "\n",
      "\n",
      "Java NMS Profile\n",
      "\n",
      "                      \n",
      "\t Chiluvuri Pooja\n",
      "\n",
      "\tEmail: poojachiluvuri@gmail.com\n",
      "Mobile: +91-9502788324\n",
      "\n",
      "\n",
      "\n",
      "\n",
      "\n",
      "\n",
      "\n",
      " CAREER SUMMARY\n",
      " Technical Skills/Competencies\n",
      "\tWeb Technologies\n",
      "\tHTML\n",
      "\n",
      "\tLanguages\n",
      "\tC, C++, SQL, PL/SQL,ANDROID,.NET,IOT\n",
      "\n",
      "\tDatabase\n",
      "\tMysql\n",
      "\n",
      "\tProject Name\n",
      "\tPet Munch\n",
      "\n",
      "\tTeam size\n",
      "\t2\n",
      "\n",
      "\n",
      "\n",
      "EDUCATION AND CERTIFICATION\t\n",
      "· B.Tech (Computer Science & Engineering) from VNR VJIET College (Autonomus) with 9.3 CGPA.\n",
      "· Diploma in Andhra polytechnic with 9.34%.\n",
      "· Schooling from HFEM School (St.Joseph Congregation) with 9.7GPA.\n",
      "\n",
      "ACHIEVEMENTS\n",
      "EXTRA CURRICULAR ACTIVITIES:\t    \n",
      "· Worked as Class Representative and Vice Captain at school level.\n",
      "· Awarded as The Best Outgoing Student at school level.\n",
      "· Awarded Chess championship at district level. \n",
      "· Interests: Paremiography, Reading Fiction.\n",
      "\n",
      " PERSONAL PROFILE\n",
      "\tDate of Birth\n",
      "\t23-10-1996\n",
      "\n",
      "\tLanguages Known\n",
      "\tEnglish,telugu,hindi\n",
      "\n",
      "\tPresent Address\n",
      "\tFlat no: 502, Gangotri Srinivas Residency,Nizampet,Hyderabad,Telangana,Pincode-500090\n",
      "\n",
      "\n",
      "\n",
      "\n",
      "<_sre.SRE_Match object; span=(123, 147), match='poojachiluvuri@gmail.com'>\n",
      "<_sre.SRE_Match object; span=(157, 170), match='91-9502788324'>\n",
      "<_sre.SRE_Match object; span=(1024, 1043), match='Telangana,Pincode-5'>\n"
     ]
    },
    {
     "ename": "NameError",
     "evalue": "name 'parseAnyFile' is not defined",
     "output_type": "error",
     "traceback": [
      "\u001b[0;31m---------------------------------------------------------------------------\u001b[0m",
      "\u001b[0;31mNameError\u001b[0m                                 Traceback (most recent call last)",
      "\u001b[0;32m<ipython-input-29-853f61afd064>\u001b[0m in \u001b[0;36m<module>\u001b[0;34m()\u001b[0m\n\u001b[0;32m----> 1\u001b[0;31m \u001b[0mResumeParsing\u001b[0m\u001b[1;33m.\u001b[0m\u001b[0mparseAnyFile\u001b[0m\u001b[1;33m(\u001b[0m\u001b[1;33m)\u001b[0m\u001b[1;33m\u001b[0m\u001b[0m\n\u001b[0m",
      "\u001b[0;32m<ipython-input-28-230405db4b76>\u001b[0m in \u001b[0;36mparseAnyFile\u001b[0;34m()\u001b[0m\n\u001b[1;32m     17\u001b[0m         \u001b[0mprint\u001b[0m\u001b[1;33m(\u001b[0m\u001b[0mresult3\u001b[0m\u001b[1;33m)\u001b[0m\u001b[1;33m\u001b[0m\u001b[0m\n\u001b[1;32m     18\u001b[0m         \u001b[1;32mif\u001b[0m \u001b[0m__name__\u001b[0m\u001b[1;33m==\u001b[0m\u001b[1;34m\"__main__\"\u001b[0m\u001b[1;33m:\u001b[0m\u001b[1;33m\u001b[0m\u001b[0m\n\u001b[0;32m---> 19\u001b[0;31m             \u001b[0mparseAnyFile\u001b[0m\u001b[1;33m(\u001b[0m\u001b[1;33m)\u001b[0m\u001b[1;33m\u001b[0m\u001b[0m\n\u001b[0m",
      "\u001b[0;31mNameError\u001b[0m: name 'parseAnyFile' is not defined"
     ]
    }
   ],
   "source": [
    "ResumeParsing.parseAnyFile()"
   ]
  },
  {
   "cell_type": "code",
   "execution_count": null,
   "metadata": {
    "collapsed": true
   },
   "outputs": [],
   "source": []
  },
  {
   "cell_type": "code",
   "execution_count": null,
   "metadata": {
    "collapsed": true
   },
   "outputs": [],
   "source": []
  },
  {
   "cell_type": "code",
   "execution_count": null,
   "metadata": {
    "collapsed": true
   },
   "outputs": [],
   "source": []
  },
  {
   "cell_type": "code",
   "execution_count": null,
   "metadata": {
    "collapsed": true
   },
   "outputs": [],
   "source": []
  },
  {
   "cell_type": "code",
   "execution_count": null,
   "metadata": {
    "collapsed": true
   },
   "outputs": [],
   "source": []
  },
  {
   "cell_type": "code",
   "execution_count": null,
   "metadata": {
    "collapsed": true
   },
   "outputs": [],
   "source": []
  },
  {
   "cell_type": "code",
   "execution_count": null,
   "metadata": {
    "collapsed": true
   },
   "outputs": [],
   "source": []
  },
  {
   "cell_type": "code",
   "execution_count": null,
   "metadata": {
    "collapsed": true
   },
   "outputs": [],
   "source": []
  },
  {
   "cell_type": "code",
   "execution_count": null,
   "metadata": {
    "collapsed": true
   },
   "outputs": [],
   "source": []
  },
  {
   "cell_type": "code",
   "execution_count": 17,
   "metadata": {
    "collapsed": false
   },
   "outputs": [
    {
     "name": "stdout",
     "output_type": "stream",
     "text": [
      "\n",
      "\n",
      "\n",
      "\n",
      "\n",
      "\n",
      "\n",
      "\n",
      "\n",
      "\n",
      "\n",
      "\n",
      "\n",
      "\n",
      "\n",
      "\n",
      "\n",
      "\n",
      "\n",
      "\n",
      "\n",
      "\n",
      "\n",
      "\n",
      "\n",
      "\n",
      "\n",
      "\n",
      "\n",
      "\n",
      "\n",
      "\n",
      "\n",
      "\n",
      "\n",
      "\n",
      "\n",
      "\n",
      "\n",
      "\n",
      "\n",
      "\n",
      "\n",
      "\n",
      "\n",
      "\n",
      "\n",
      "\n",
      "\n",
      "\n",
      "\n",
      "\n",
      "\n",
      "\n",
      "\n",
      "Java NMS Profile\n",
      "\n",
      "                      \n",
      "\t Chiluvuri Pooja\n",
      "\n",
      "\tEmail: poojachiluvuri@gmail.com\n",
      "Mobile: +91-9502788324\n",
      "\n",
      "\n",
      "\n",
      "\n",
      "\n",
      "\n",
      "\n",
      " CAREER SUMMARY\n",
      " Technical Skills/Competencies\n",
      "\tWeb Technologies\n",
      "\tHTML\n",
      "\n",
      "\tLanguages\n",
      "\tC, C++, SQL, PL/SQL,ANDROID,.NET,IOT\n",
      "\n",
      "\tDatabase\n",
      "\tMysql\n",
      "\n",
      "\tProject Name\n",
      "\tPet Munch\n",
      "\n",
      "\tTeam size\n",
      "\t2\n",
      "\n",
      "\n",
      "\n",
      "EDUCATION AND CERTIFICATION\t\n",
      "· B.Tech (Computer Science & Engineering) from VNR VJIET College (Autonomus) with 9.3 CGPA.\n",
      "· Diploma in Andhra polytechnic with 9.34%.\n",
      "· Schooling from HFEM School (St.Joseph Congregation) with 9.7GPA.\n",
      "\n",
      "ACHIEVEMENTS\n",
      "EXTRA CURRICULAR ACTIVITIES:\t    \n",
      "· Worked as Class Representative and Vice Captain at school level.\n",
      "· Awarded as The Best Outgoing Student at school level.\n",
      "· Awarded Chess championship at district level. \n",
      "· Interests: Paremiography, Reading Fiction.\n",
      " PERSONAL PROFILE\n",
      "\tDate of Birth\n",
      "\t23-Oct-1996\n",
      "\n",
      "\tLanguages Known\n",
      "\tEnglish, Telugu, Hindi\n",
      "\n",
      "\tPresent Address\n",
      "\tFlat no: 502, Gangotri Srinivas Residency,Nizampet,Hyderabad,Telangana,Pincode-500090\t\t\t:\tHardworking dedication and good Communication skills\n",
      "\n",
      "\n",
      "\n",
      "\n",
      "<_sre.SRE_Match object; span=(123, 147), match='poojachiluvuri@gmail.com'>\n",
      "<_sre.SRE_Match object; span=(157, 170), match='91-9502788324'>\n",
      "None\n"
     ]
    },
    {
     "ename": "NameError",
     "evalue": "name 'parseAnyFile' is not defined",
     "output_type": "error",
     "traceback": [
      "\u001b[0;31m---------------------------------------------------------------------------\u001b[0m",
      "\u001b[0;31mNameError\u001b[0m                                 Traceback (most recent call last)",
      "\u001b[0;32m<ipython-input-17-853f61afd064>\u001b[0m in \u001b[0;36m<module>\u001b[0;34m()\u001b[0m\n\u001b[0;32m----> 1\u001b[0;31m \u001b[0mResumeParsing\u001b[0m\u001b[1;33m.\u001b[0m\u001b[0mparseAnyFile\u001b[0m\u001b[1;33m(\u001b[0m\u001b[1;33m)\u001b[0m\u001b[1;33m\u001b[0m\u001b[0m\n\u001b[0m",
      "\u001b[0;32m<ipython-input-16-22a67e1eeb4e>\u001b[0m in \u001b[0;36mparseAnyFile\u001b[0;34m()\u001b[0m\n\u001b[1;32m     17\u001b[0m         \u001b[0mprint\u001b[0m\u001b[1;33m(\u001b[0m\u001b[0mresult3\u001b[0m\u001b[1;33m)\u001b[0m\u001b[1;33m\u001b[0m\u001b[0m\n\u001b[1;32m     18\u001b[0m         \u001b[1;32mif\u001b[0m \u001b[0m__name__\u001b[0m\u001b[1;33m==\u001b[0m\u001b[1;34m\"__main__\"\u001b[0m\u001b[1;33m:\u001b[0m\u001b[1;33m\u001b[0m\u001b[0m\n\u001b[0;32m---> 19\u001b[0;31m             \u001b[0mparseAnyFile\u001b[0m\u001b[1;33m(\u001b[0m\u001b[1;33m)\u001b[0m\u001b[1;33m\u001b[0m\u001b[0m\n\u001b[0m",
      "\u001b[0;31mNameError\u001b[0m: name 'parseAnyFile' is not defined"
     ]
    }
   ],
   "source": [
    "ResumeParsing.parseAnyFile()"
   ]
  },
  {
   "cell_type": "code",
   "execution_count": null,
   "metadata": {
    "collapsed": true
   },
   "outputs": [],
   "source": []
  },
  {
   "cell_type": "code",
   "execution_count": null,
   "metadata": {
    "collapsed": true
   },
   "outputs": [],
   "source": []
  },
  {
   "cell_type": "code",
   "execution_count": null,
   "metadata": {
    "collapsed": true
   },
   "outputs": [],
   "source": []
  },
  {
   "cell_type": "code",
   "execution_count": null,
   "metadata": {
    "collapsed": true
   },
   "outputs": [],
   "source": []
  },
  {
   "cell_type": "code",
   "execution_count": null,
   "metadata": {
    "collapsed": true
   },
   "outputs": [],
   "source": []
  },
  {
   "cell_type": "code",
   "execution_count": null,
   "metadata": {
    "collapsed": true
   },
   "outputs": [],
   "source": []
  },
  {
   "cell_type": "code",
   "execution_count": 10,
   "metadata": {
    "collapsed": false
   },
   "outputs": [
    {
     "name": "stdout",
     "output_type": "stream",
     "text": [
      "\n",
      "\n",
      "\n",
      "\n",
      "\n",
      "\n",
      "\n",
      "\n",
      "\n",
      "\n",
      "\n",
      "\n",
      "\n",
      "\n",
      "\n",
      "\n",
      "\n",
      "\n",
      "\n",
      "\n",
      "\n",
      "\n",
      "\n",
      "\n",
      "\n",
      "\n",
      "\n",
      "\n",
      "\n",
      "\n",
      "\n",
      "\n",
      "\n",
      "\n",
      "\n",
      "\n",
      "\n",
      "\n",
      "\n",
      "\n",
      "\n",
      "\n",
      "\n",
      "\n",
      "\n",
      "\n",
      "\n",
      "\n",
      "\n",
      "\n",
      "\n",
      "\n",
      "\n",
      "\n",
      "\n",
      "Java NMS Profile\n",
      "\n",
      "                      \n",
      "\t Chiluvuri Pooja\n",
      "\n",
      "\tEmail: poojachiluvuri@gmail.com\n",
      "Mobile: +91-9502788324\n",
      "\n",
      "\n",
      "\n",
      "\n",
      "\n",
      "\n",
      "\n",
      " CAREER SUMMARY\n",
      " Technical Skills/Competencies\n",
      "\tWeb Technologies\n",
      "\tHTML\n",
      "\n",
      "\tLanguages\n",
      "\tC, C++, SQL, PL/SQL,ANDROID,.NET,IOT\n",
      "\n",
      "\tDatabase\n",
      "\tMysql\n",
      "\n",
      "\tProject Name\n",
      "\tPet Munch\n",
      "\n",
      "\tTeam size\n",
      "\t2\n",
      "\n",
      "\n",
      "\n",
      "EDUCATION AND CERTIFICATION\t\n",
      "· B.Tech (Computer Science & Engineering) from VNR VJIET College (Autonomus) with 9.3 CGPA.\n",
      "· Diploma in Andhra polytechnic with 9.34%.\n",
      "· Schooling from HFEM School (St.Joseph Congregation) with 9.7GPA.\n",
      "\n",
      "ACHIEVEMENTS\n",
      "EXTRA CURRICULAR ACTIVITIES:\t    \n",
      "· Worked as Class Representative and Vice Captain at school level.\n",
      "· Awarded as The Best Outgoing Student at school level.\n",
      "· Awarded Chess championship at district level. \n",
      "· Interests: Paremiography, Reading Fiction.\n",
      " PERSONAL PROFILE\n",
      "\tDate of Birth\n",
      "\t23-Oct-1996\n",
      "\n",
      "\tLanguages Known\n",
      "\tEnglish, Telugu, Hindi\n",
      "\n",
      "\tPresent Address\n",
      "\tFlat no: 502, Gangotri Srinivas Residency,Nizampet,Hyderabad,Telangana,Pincode-500090\t\t\t:\tHardworking dedication and good Communication skills\n",
      "\n",
      "\n",
      "\n",
      "\n",
      "<_sre.SRE_Match object; span=(123, 147), match='poojachiluvuri@gmail.com'>\n",
      "None\n",
      "None\n"
     ]
    },
    {
     "ename": "NameError",
     "evalue": "name 'parseAnyFile' is not defined",
     "output_type": "error",
     "traceback": [
      "\u001b[0;31m---------------------------------------------------------------------------\u001b[0m",
      "\u001b[0;31mNameError\u001b[0m                                 Traceback (most recent call last)",
      "\u001b[0;32m<ipython-input-10-853f61afd064>\u001b[0m in \u001b[0;36m<module>\u001b[0;34m()\u001b[0m\n\u001b[0;32m----> 1\u001b[0;31m \u001b[0mResumeParsing\u001b[0m\u001b[1;33m.\u001b[0m\u001b[0mparseAnyFile\u001b[0m\u001b[1;33m(\u001b[0m\u001b[1;33m)\u001b[0m\u001b[1;33m\u001b[0m\u001b[0m\n\u001b[0m",
      "\u001b[0;32m<ipython-input-9-b55aa79a278f>\u001b[0m in \u001b[0;36mparseAnyFile\u001b[0;34m()\u001b[0m\n\u001b[1;32m     17\u001b[0m         \u001b[0mprint\u001b[0m\u001b[1;33m(\u001b[0m\u001b[0mresult3\u001b[0m\u001b[1;33m)\u001b[0m\u001b[1;33m\u001b[0m\u001b[0m\n\u001b[1;32m     18\u001b[0m         \u001b[1;32mif\u001b[0m \u001b[0m__name__\u001b[0m\u001b[1;33m==\u001b[0m\u001b[1;34m\"__main__\"\u001b[0m\u001b[1;33m:\u001b[0m\u001b[1;33m\u001b[0m\u001b[0m\n\u001b[0;32m---> 19\u001b[0;31m             \u001b[0mparseAnyFile\u001b[0m\u001b[1;33m(\u001b[0m\u001b[1;33m)\u001b[0m\u001b[1;33m\u001b[0m\u001b[0m\n\u001b[0m",
      "\u001b[0;31mNameError\u001b[0m: name 'parseAnyFile' is not defined"
     ]
    }
   ],
   "source": [
    "ResumeParsing.parseAnyFile()"
   ]
  },
  {
   "cell_type": "code",
   "execution_count": null,
   "metadata": {
    "collapsed": true
   },
   "outputs": [],
   "source": []
  },
  {
   "cell_type": "code",
   "execution_count": null,
   "metadata": {
    "collapsed": true
   },
   "outputs": [],
   "source": []
  },
  {
   "cell_type": "code",
   "execution_count": null,
   "metadata": {
    "collapsed": true
   },
   "outputs": [],
   "source": []
  },
  {
   "cell_type": "code",
   "execution_count": null,
   "metadata": {
    "collapsed": true
   },
   "outputs": [],
   "source": []
  },
  {
   "cell_type": "code",
   "execution_count": null,
   "metadata": {
    "collapsed": true
   },
   "outputs": [],
   "source": []
  },
  {
   "cell_type": "code",
   "execution_count": null,
   "metadata": {
    "collapsed": true
   },
   "outputs": [],
   "source": []
  }
 ],
 "metadata": {
  "kernelspec": {
   "display_name": "Python 3",
   "language": "python",
   "name": "python3"
  },
  "language_info": {
   "codemirror_mode": {
    "name": "ipython",
    "version": 3
   },
   "file_extension": ".py",
   "mimetype": "text/x-python",
   "name": "python",
   "nbconvert_exporter": "python",
   "pygments_lexer": "ipython3",
   "version": "3.6.0"
  }
 },
 "nbformat": 4,
 "nbformat_minor": 2
}
